{
 "cells": [
  {
   "cell_type": "code",
   "execution_count": 1,
   "id": "fde7c124",
   "metadata": {},
   "outputs": [],
   "source": [
    "import pandas as pd\n",
    "from sklearn.linear_model import LinearRegression\n",
    "from sklearn.model_selection import train_test_split\n",
    "from sklearn.metrics import mean_squared_error\n",
    "import joblib\n",
    "import matplotlib.pyplot as plt\n",
    "import seaborn as sns\n",
    "\n"
   ]
  },
  {
   "cell_type": "code",
   "execution_count": 2,
   "id": "85a8b297",
   "metadata": {},
   "outputs": [
    {
     "data": {
      "text/html": [
       "<div>\n",
       "<style scoped>\n",
       "    .dataframe tbody tr th:only-of-type {\n",
       "        vertical-align: middle;\n",
       "    }\n",
       "\n",
       "    .dataframe tbody tr th {\n",
       "        vertical-align: top;\n",
       "    }\n",
       "\n",
       "    .dataframe thead th {\n",
       "        text-align: right;\n",
       "    }\n",
       "</style>\n",
       "<table border=\"1\" class=\"dataframe\">\n",
       "  <thead>\n",
       "    <tr style=\"text-align: right;\">\n",
       "      <th></th>\n",
       "      <th>Age</th>\n",
       "      <th>Gender</th>\n",
       "      <th>Education Level</th>\n",
       "      <th>Job Title</th>\n",
       "      <th>Years of Experience</th>\n",
       "      <th>Salary</th>\n",
       "    </tr>\n",
       "  </thead>\n",
       "  <tbody>\n",
       "    <tr>\n",
       "      <th>0</th>\n",
       "      <td>32.0</td>\n",
       "      <td>Male</td>\n",
       "      <td>Bachelor's</td>\n",
       "      <td>Software Engineer</td>\n",
       "      <td>5.0</td>\n",
       "      <td>90000.0</td>\n",
       "    </tr>\n",
       "    <tr>\n",
       "      <th>1</th>\n",
       "      <td>28.0</td>\n",
       "      <td>Female</td>\n",
       "      <td>Master's</td>\n",
       "      <td>Data Analyst</td>\n",
       "      <td>3.0</td>\n",
       "      <td>65000.0</td>\n",
       "    </tr>\n",
       "    <tr>\n",
       "      <th>2</th>\n",
       "      <td>45.0</td>\n",
       "      <td>Male</td>\n",
       "      <td>PhD</td>\n",
       "      <td>Senior Manager</td>\n",
       "      <td>15.0</td>\n",
       "      <td>150000.0</td>\n",
       "    </tr>\n",
       "    <tr>\n",
       "      <th>3</th>\n",
       "      <td>36.0</td>\n",
       "      <td>Female</td>\n",
       "      <td>Bachelor's</td>\n",
       "      <td>Sales Associate</td>\n",
       "      <td>7.0</td>\n",
       "      <td>60000.0</td>\n",
       "    </tr>\n",
       "    <tr>\n",
       "      <th>4</th>\n",
       "      <td>52.0</td>\n",
       "      <td>Male</td>\n",
       "      <td>Master's</td>\n",
       "      <td>Director</td>\n",
       "      <td>20.0</td>\n",
       "      <td>200000.0</td>\n",
       "    </tr>\n",
       "  </tbody>\n",
       "</table>\n",
       "</div>"
      ],
      "text/plain": [
       "    Age  Gender Education Level          Job Title  Years of Experience  \\\n",
       "0  32.0    Male      Bachelor's  Software Engineer                  5.0   \n",
       "1  28.0  Female        Master's       Data Analyst                  3.0   \n",
       "2  45.0    Male             PhD     Senior Manager                 15.0   \n",
       "3  36.0  Female      Bachelor's    Sales Associate                  7.0   \n",
       "4  52.0    Male        Master's           Director                 20.0   \n",
       "\n",
       "     Salary  \n",
       "0   90000.0  \n",
       "1   65000.0  \n",
       "2  150000.0  \n",
       "3   60000.0  \n",
       "4  200000.0  "
      ]
     },
     "execution_count": 2,
     "metadata": {},
     "output_type": "execute_result"
    }
   ],
   "source": [
    "df = pd.read_csv(\"salary_data.csv\")\n",
    "df.head()\n"
   ]
  },
  {
   "cell_type": "code",
   "execution_count": 3,
   "id": "fe48373d",
   "metadata": {},
   "outputs": [
    {
     "name": "stdout",
     "output_type": "stream",
     "text": [
      "<class 'pandas.core.frame.DataFrame'>\n",
      "RangeIndex: 375 entries, 0 to 374\n",
      "Data columns (total 6 columns):\n",
      " #   Column               Non-Null Count  Dtype  \n",
      "---  ------               --------------  -----  \n",
      " 0   Age                  373 non-null    float64\n",
      " 1   Gender               373 non-null    object \n",
      " 2   Education Level      373 non-null    object \n",
      " 3   Job Title            373 non-null    object \n",
      " 4   Years of Experience  373 non-null    float64\n",
      " 5   Salary               373 non-null    float64\n",
      "dtypes: float64(3), object(3)\n",
      "memory usage: 17.7+ KB\n"
     ]
    }
   ],
   "source": [
    "df.info()"
   ]
  },
  {
   "cell_type": "code",
   "execution_count": 4,
   "id": "3b4ad2b2",
   "metadata": {},
   "outputs": [
    {
     "data": {
      "text/html": [
       "<div>\n",
       "<style scoped>\n",
       "    .dataframe tbody tr th:only-of-type {\n",
       "        vertical-align: middle;\n",
       "    }\n",
       "\n",
       "    .dataframe tbody tr th {\n",
       "        vertical-align: top;\n",
       "    }\n",
       "\n",
       "    .dataframe thead th {\n",
       "        text-align: right;\n",
       "    }\n",
       "</style>\n",
       "<table border=\"1\" class=\"dataframe\">\n",
       "  <thead>\n",
       "    <tr style=\"text-align: right;\">\n",
       "      <th></th>\n",
       "      <th>Age</th>\n",
       "      <th>Years of Experience</th>\n",
       "      <th>Salary</th>\n",
       "    </tr>\n",
       "  </thead>\n",
       "  <tbody>\n",
       "    <tr>\n",
       "      <th>count</th>\n",
       "      <td>373.000000</td>\n",
       "      <td>373.000000</td>\n",
       "      <td>373.000000</td>\n",
       "    </tr>\n",
       "    <tr>\n",
       "      <th>mean</th>\n",
       "      <td>37.431635</td>\n",
       "      <td>10.030831</td>\n",
       "      <td>100577.345845</td>\n",
       "    </tr>\n",
       "    <tr>\n",
       "      <th>std</th>\n",
       "      <td>7.069073</td>\n",
       "      <td>6.557007</td>\n",
       "      <td>48240.013482</td>\n",
       "    </tr>\n",
       "    <tr>\n",
       "      <th>min</th>\n",
       "      <td>23.000000</td>\n",
       "      <td>0.000000</td>\n",
       "      <td>350.000000</td>\n",
       "    </tr>\n",
       "    <tr>\n",
       "      <th>25%</th>\n",
       "      <td>31.000000</td>\n",
       "      <td>4.000000</td>\n",
       "      <td>55000.000000</td>\n",
       "    </tr>\n",
       "    <tr>\n",
       "      <th>50%</th>\n",
       "      <td>36.000000</td>\n",
       "      <td>9.000000</td>\n",
       "      <td>95000.000000</td>\n",
       "    </tr>\n",
       "    <tr>\n",
       "      <th>75%</th>\n",
       "      <td>44.000000</td>\n",
       "      <td>15.000000</td>\n",
       "      <td>140000.000000</td>\n",
       "    </tr>\n",
       "    <tr>\n",
       "      <th>max</th>\n",
       "      <td>53.000000</td>\n",
       "      <td>25.000000</td>\n",
       "      <td>250000.000000</td>\n",
       "    </tr>\n",
       "  </tbody>\n",
       "</table>\n",
       "</div>"
      ],
      "text/plain": [
       "              Age  Years of Experience         Salary\n",
       "count  373.000000           373.000000     373.000000\n",
       "mean    37.431635            10.030831  100577.345845\n",
       "std      7.069073             6.557007   48240.013482\n",
       "min     23.000000             0.000000     350.000000\n",
       "25%     31.000000             4.000000   55000.000000\n",
       "50%     36.000000             9.000000   95000.000000\n",
       "75%     44.000000            15.000000  140000.000000\n",
       "max     53.000000            25.000000  250000.000000"
      ]
     },
     "execution_count": 4,
     "metadata": {},
     "output_type": "execute_result"
    }
   ],
   "source": [
    "df.describe()"
   ]
  },
  {
   "cell_type": "code",
   "execution_count": 5,
   "id": "a09520ce",
   "metadata": {},
   "outputs": [
    {
     "data": {
      "text/plain": [
       "(375, 6)"
      ]
     },
     "execution_count": 5,
     "metadata": {},
     "output_type": "execute_result"
    }
   ],
   "source": [
    "df.shape"
   ]
  },
  {
   "cell_type": "code",
   "execution_count": 6,
   "id": "6484e34a",
   "metadata": {},
   "outputs": [
    {
     "data": {
      "text/plain": [
       "Index(['Age', 'Gender', 'Education Level', 'Job Title', 'Years of Experience',\n",
       "       'Salary'],\n",
       "      dtype='object')"
      ]
     },
     "execution_count": 6,
     "metadata": {},
     "output_type": "execute_result"
    }
   ],
   "source": [
    "df.columns\n"
   ]
  },
  {
   "cell_type": "code",
   "execution_count": 7,
   "id": "66e7a635",
   "metadata": {},
   "outputs": [
    {
     "data": {
      "text/plain": [
       "Age                    float64\n",
       "Gender                  object\n",
       "Education Level         object\n",
       "Job Title               object\n",
       "Years of Experience    float64\n",
       "Salary                 float64\n",
       "dtype: object"
      ]
     },
     "execution_count": 7,
     "metadata": {},
     "output_type": "execute_result"
    }
   ],
   "source": [
    "df.dtypes\n"
   ]
  },
  {
   "cell_type": "code",
   "execution_count": 8,
   "id": "781d2173",
   "metadata": {},
   "outputs": [
    {
     "data": {
      "text/plain": [
       "Age                    2\n",
       "Gender                 2\n",
       "Education Level        2\n",
       "Job Title              2\n",
       "Years of Experience    2\n",
       "Salary                 2\n",
       "dtype: int64"
      ]
     },
     "execution_count": 8,
     "metadata": {},
     "output_type": "execute_result"
    }
   ],
   "source": [
    "df.isnull().sum()"
   ]
  },
  {
   "cell_type": "code",
   "execution_count": 9,
   "id": "5e191d37",
   "metadata": {},
   "outputs": [],
   "source": [
    "df_cleaned = df.dropna()"
   ]
  },
  {
   "cell_type": "code",
   "execution_count": 10,
   "id": "ceeb5170",
   "metadata": {},
   "outputs": [
    {
     "data": {
      "text/plain": [
       "Age                    0\n",
       "Gender                 0\n",
       "Education Level        0\n",
       "Job Title              0\n",
       "Years of Experience    0\n",
       "Salary                 0\n",
       "dtype: int64"
      ]
     },
     "execution_count": 10,
     "metadata": {},
     "output_type": "execute_result"
    }
   ],
   "source": [
    "df_cleaned.isnull().sum()"
   ]
  },
  {
   "cell_type": "code",
   "execution_count": 11,
   "id": "7246959c",
   "metadata": {},
   "outputs": [
    {
     "data": {
      "text/plain": [
       "np.int64(49)"
      ]
     },
     "execution_count": 11,
     "metadata": {},
     "output_type": "execute_result"
    }
   ],
   "source": [
    "df_cleaned.duplicated().sum()"
   ]
  },
  {
   "cell_type": "code",
   "execution_count": 12,
   "id": "f98531a2",
   "metadata": {},
   "outputs": [
    {
     "name": "stderr",
     "output_type": "stream",
     "text": [
      "/var/folders/bd/m8wphbrn0dgbjf_jwlvd99700000gn/T/ipykernel_27119/1933774369.py:1: UserWarning: Boolean Series key will be reindexed to match DataFrame index.\n",
      "  df_cleaned[df.duplicated()]\n"
     ]
    },
    {
     "data": {
      "text/html": [
       "<div>\n",
       "<style scoped>\n",
       "    .dataframe tbody tr th:only-of-type {\n",
       "        vertical-align: middle;\n",
       "    }\n",
       "\n",
       "    .dataframe tbody tr th {\n",
       "        vertical-align: top;\n",
       "    }\n",
       "\n",
       "    .dataframe thead th {\n",
       "        text-align: right;\n",
       "    }\n",
       "</style>\n",
       "<table border=\"1\" class=\"dataframe\">\n",
       "  <thead>\n",
       "    <tr style=\"text-align: right;\">\n",
       "      <th></th>\n",
       "      <th>Age</th>\n",
       "      <th>Gender</th>\n",
       "      <th>Education Level</th>\n",
       "      <th>Job Title</th>\n",
       "      <th>Years of Experience</th>\n",
       "      <th>Salary</th>\n",
       "    </tr>\n",
       "  </thead>\n",
       "  <tbody>\n",
       "    <tr>\n",
       "      <th>195</th>\n",
       "      <td>28.0</td>\n",
       "      <td>Male</td>\n",
       "      <td>Bachelor's</td>\n",
       "      <td>Junior Business Analyst</td>\n",
       "      <td>2.0</td>\n",
       "      <td>40000.0</td>\n",
       "    </tr>\n",
       "    <tr>\n",
       "      <th>250</th>\n",
       "      <td>30.0</td>\n",
       "      <td>Female</td>\n",
       "      <td>Bachelor's</td>\n",
       "      <td>Junior Marketing Coordinator</td>\n",
       "      <td>2.0</td>\n",
       "      <td>40000.0</td>\n",
       "    </tr>\n",
       "    <tr>\n",
       "      <th>251</th>\n",
       "      <td>38.0</td>\n",
       "      <td>Male</td>\n",
       "      <td>Master's</td>\n",
       "      <td>Senior IT Consultant</td>\n",
       "      <td>9.0</td>\n",
       "      <td>110000.0</td>\n",
       "    </tr>\n",
       "    <tr>\n",
       "      <th>252</th>\n",
       "      <td>45.0</td>\n",
       "      <td>Female</td>\n",
       "      <td>PhD</td>\n",
       "      <td>Senior Product Designer</td>\n",
       "      <td>15.0</td>\n",
       "      <td>150000.0</td>\n",
       "    </tr>\n",
       "    <tr>\n",
       "      <th>253</th>\n",
       "      <td>28.0</td>\n",
       "      <td>Male</td>\n",
       "      <td>Bachelor's</td>\n",
       "      <td>Junior Business Development Associate</td>\n",
       "      <td>2.0</td>\n",
       "      <td>40000.0</td>\n",
       "    </tr>\n",
       "    <tr>\n",
       "      <th>254</th>\n",
       "      <td>35.0</td>\n",
       "      <td>Female</td>\n",
       "      <td>Bachelor's</td>\n",
       "      <td>Senior Marketing Analyst</td>\n",
       "      <td>8.0</td>\n",
       "      <td>85000.0</td>\n",
       "    </tr>\n",
       "    <tr>\n",
       "      <th>255</th>\n",
       "      <td>44.0</td>\n",
       "      <td>Male</td>\n",
       "      <td>Bachelor's</td>\n",
       "      <td>Senior Software Engineer</td>\n",
       "      <td>14.0</td>\n",
       "      <td>130000.0</td>\n",
       "    </tr>\n",
       "    <tr>\n",
       "      <th>256</th>\n",
       "      <td>34.0</td>\n",
       "      <td>Female</td>\n",
       "      <td>Master's</td>\n",
       "      <td>Senior Financial Advisor</td>\n",
       "      <td>6.0</td>\n",
       "      <td>100000.0</td>\n",
       "    </tr>\n",
       "    <tr>\n",
       "      <th>257</th>\n",
       "      <td>35.0</td>\n",
       "      <td>Male</td>\n",
       "      <td>Bachelor's</td>\n",
       "      <td>Senior Project Coordinator</td>\n",
       "      <td>9.0</td>\n",
       "      <td>95000.0</td>\n",
       "    </tr>\n",
       "    <tr>\n",
       "      <th>258</th>\n",
       "      <td>50.0</td>\n",
       "      <td>Female</td>\n",
       "      <td>PhD</td>\n",
       "      <td>Director of Operations</td>\n",
       "      <td>22.0</td>\n",
       "      <td>180000.0</td>\n",
       "    </tr>\n",
       "    <tr>\n",
       "      <th>262</th>\n",
       "      <td>46.0</td>\n",
       "      <td>Male</td>\n",
       "      <td>PhD</td>\n",
       "      <td>Senior Data Scientist</td>\n",
       "      <td>18.0</td>\n",
       "      <td>160000.0</td>\n",
       "    </tr>\n",
       "    <tr>\n",
       "      <th>281</th>\n",
       "      <td>41.0</td>\n",
       "      <td>Female</td>\n",
       "      <td>Bachelor's</td>\n",
       "      <td>Senior Project Coordinator</td>\n",
       "      <td>11.0</td>\n",
       "      <td>95000.0</td>\n",
       "    </tr>\n",
       "    <tr>\n",
       "      <th>287</th>\n",
       "      <td>35.0</td>\n",
       "      <td>Female</td>\n",
       "      <td>Bachelor's</td>\n",
       "      <td>Senior Marketing Analyst</td>\n",
       "      <td>8.0</td>\n",
       "      <td>85000.0</td>\n",
       "    </tr>\n",
       "    <tr>\n",
       "      <th>303</th>\n",
       "      <td>45.0</td>\n",
       "      <td>Male</td>\n",
       "      <td>PhD</td>\n",
       "      <td>Senior Data Engineer</td>\n",
       "      <td>16.0</td>\n",
       "      <td>150000.0</td>\n",
       "    </tr>\n",
       "    <tr>\n",
       "      <th>306</th>\n",
       "      <td>49.0</td>\n",
       "      <td>Female</td>\n",
       "      <td>Master's</td>\n",
       "      <td>Director of Marketing</td>\n",
       "      <td>21.0</td>\n",
       "      <td>180000.0</td>\n",
       "    </tr>\n",
       "    <tr>\n",
       "      <th>307</th>\n",
       "      <td>31.0</td>\n",
       "      <td>Male</td>\n",
       "      <td>Bachelor's</td>\n",
       "      <td>Junior Operations Analyst</td>\n",
       "      <td>3.0</td>\n",
       "      <td>50000.0</td>\n",
       "    </tr>\n",
       "    <tr>\n",
       "      <th>309</th>\n",
       "      <td>47.0</td>\n",
       "      <td>Male</td>\n",
       "      <td>Master's</td>\n",
       "      <td>Director of Marketing</td>\n",
       "      <td>19.0</td>\n",
       "      <td>170000.0</td>\n",
       "    </tr>\n",
       "    <tr>\n",
       "      <th>310</th>\n",
       "      <td>29.0</td>\n",
       "      <td>Female</td>\n",
       "      <td>Bachelor's</td>\n",
       "      <td>Junior Business Development Associate</td>\n",
       "      <td>1.5</td>\n",
       "      <td>35000.0</td>\n",
       "    </tr>\n",
       "    <tr>\n",
       "      <th>311</th>\n",
       "      <td>35.0</td>\n",
       "      <td>Male</td>\n",
       "      <td>Bachelor's</td>\n",
       "      <td>Senior Financial Manager</td>\n",
       "      <td>9.0</td>\n",
       "      <td>100000.0</td>\n",
       "    </tr>\n",
       "    <tr>\n",
       "      <th>312</th>\n",
       "      <td>44.0</td>\n",
       "      <td>Female</td>\n",
       "      <td>PhD</td>\n",
       "      <td>Senior Product Designer</td>\n",
       "      <td>15.0</td>\n",
       "      <td>150000.0</td>\n",
       "    </tr>\n",
       "    <tr>\n",
       "      <th>313</th>\n",
       "      <td>33.0</td>\n",
       "      <td>Male</td>\n",
       "      <td>Bachelor's</td>\n",
       "      <td>Junior Business Analyst</td>\n",
       "      <td>4.0</td>\n",
       "      <td>60000.0</td>\n",
       "    </tr>\n",
       "    <tr>\n",
       "      <th>314</th>\n",
       "      <td>35.0</td>\n",
       "      <td>Female</td>\n",
       "      <td>Bachelor's</td>\n",
       "      <td>Senior Marketing Analyst</td>\n",
       "      <td>8.0</td>\n",
       "      <td>85000.0</td>\n",
       "    </tr>\n",
       "    <tr>\n",
       "      <th>315</th>\n",
       "      <td>44.0</td>\n",
       "      <td>Male</td>\n",
       "      <td>Bachelor's</td>\n",
       "      <td>Senior Software Engineer</td>\n",
       "      <td>13.0</td>\n",
       "      <td>130000.0</td>\n",
       "    </tr>\n",
       "    <tr>\n",
       "      <th>317</th>\n",
       "      <td>36.0</td>\n",
       "      <td>Male</td>\n",
       "      <td>Bachelor's</td>\n",
       "      <td>Senior Marketing Specialist</td>\n",
       "      <td>8.0</td>\n",
       "      <td>95000.0</td>\n",
       "    </tr>\n",
       "    <tr>\n",
       "      <th>328</th>\n",
       "      <td>38.0</td>\n",
       "      <td>Female</td>\n",
       "      <td>Bachelor's</td>\n",
       "      <td>Senior Business Analyst</td>\n",
       "      <td>10.0</td>\n",
       "      <td>110000.0</td>\n",
       "    </tr>\n",
       "    <tr>\n",
       "      <th>345</th>\n",
       "      <td>33.0</td>\n",
       "      <td>Male</td>\n",
       "      <td>Bachelor's</td>\n",
       "      <td>Junior Business Analyst</td>\n",
       "      <td>4.0</td>\n",
       "      <td>60000.0</td>\n",
       "    </tr>\n",
       "    <tr>\n",
       "      <th>346</th>\n",
       "      <td>35.0</td>\n",
       "      <td>Female</td>\n",
       "      <td>Bachelor's</td>\n",
       "      <td>Senior Marketing Analyst</td>\n",
       "      <td>8.0</td>\n",
       "      <td>85000.0</td>\n",
       "    </tr>\n",
       "    <tr>\n",
       "      <th>352</th>\n",
       "      <td>38.0</td>\n",
       "      <td>Female</td>\n",
       "      <td>Bachelor's</td>\n",
       "      <td>Senior Business Analyst</td>\n",
       "      <td>10.0</td>\n",
       "      <td>110000.0</td>\n",
       "    </tr>\n",
       "    <tr>\n",
       "      <th>353</th>\n",
       "      <td>48.0</td>\n",
       "      <td>Male</td>\n",
       "      <td>Master's</td>\n",
       "      <td>Director of Marketing</td>\n",
       "      <td>21.0</td>\n",
       "      <td>180000.0</td>\n",
       "    </tr>\n",
       "    <tr>\n",
       "      <th>354</th>\n",
       "      <td>31.0</td>\n",
       "      <td>Female</td>\n",
       "      <td>Bachelor's</td>\n",
       "      <td>Junior Business Development Associate</td>\n",
       "      <td>3.0</td>\n",
       "      <td>50000.0</td>\n",
       "    </tr>\n",
       "    <tr>\n",
       "      <th>355</th>\n",
       "      <td>40.0</td>\n",
       "      <td>Male</td>\n",
       "      <td>Bachelor's</td>\n",
       "      <td>Senior Financial Analyst</td>\n",
       "      <td>12.0</td>\n",
       "      <td>130000.0</td>\n",
       "    </tr>\n",
       "    <tr>\n",
       "      <th>356</th>\n",
       "      <td>45.0</td>\n",
       "      <td>Female</td>\n",
       "      <td>PhD</td>\n",
       "      <td>Senior UX Designer</td>\n",
       "      <td>16.0</td>\n",
       "      <td>160000.0</td>\n",
       "    </tr>\n",
       "    <tr>\n",
       "      <th>357</th>\n",
       "      <td>33.0</td>\n",
       "      <td>Male</td>\n",
       "      <td>Bachelor's</td>\n",
       "      <td>Junior Product Manager</td>\n",
       "      <td>4.0</td>\n",
       "      <td>60000.0</td>\n",
       "    </tr>\n",
       "    <tr>\n",
       "      <th>358</th>\n",
       "      <td>36.0</td>\n",
       "      <td>Female</td>\n",
       "      <td>Bachelor's</td>\n",
       "      <td>Senior Marketing Manager</td>\n",
       "      <td>8.0</td>\n",
       "      <td>95000.0</td>\n",
       "    </tr>\n",
       "    <tr>\n",
       "      <th>359</th>\n",
       "      <td>47.0</td>\n",
       "      <td>Male</td>\n",
       "      <td>Master's</td>\n",
       "      <td>Director of Operations</td>\n",
       "      <td>19.0</td>\n",
       "      <td>170000.0</td>\n",
       "    </tr>\n",
       "    <tr>\n",
       "      <th>360</th>\n",
       "      <td>29.0</td>\n",
       "      <td>Female</td>\n",
       "      <td>Bachelor's</td>\n",
       "      <td>Junior Project Manager</td>\n",
       "      <td>2.0</td>\n",
       "      <td>40000.0</td>\n",
       "    </tr>\n",
       "    <tr>\n",
       "      <th>361</th>\n",
       "      <td>34.0</td>\n",
       "      <td>Male</td>\n",
       "      <td>Bachelor's</td>\n",
       "      <td>Senior Operations Coordinator</td>\n",
       "      <td>7.0</td>\n",
       "      <td>90000.0</td>\n",
       "    </tr>\n",
       "    <tr>\n",
       "      <th>362</th>\n",
       "      <td>44.0</td>\n",
       "      <td>Female</td>\n",
       "      <td>PhD</td>\n",
       "      <td>Senior Business Analyst</td>\n",
       "      <td>15.0</td>\n",
       "      <td>150000.0</td>\n",
       "    </tr>\n",
       "    <tr>\n",
       "      <th>363</th>\n",
       "      <td>33.0</td>\n",
       "      <td>Male</td>\n",
       "      <td>Bachelor's</td>\n",
       "      <td>Junior Marketing Specialist</td>\n",
       "      <td>5.0</td>\n",
       "      <td>70000.0</td>\n",
       "    </tr>\n",
       "    <tr>\n",
       "      <th>364</th>\n",
       "      <td>35.0</td>\n",
       "      <td>Female</td>\n",
       "      <td>Bachelor's</td>\n",
       "      <td>Senior Financial Manager</td>\n",
       "      <td>8.0</td>\n",
       "      <td>90000.0</td>\n",
       "    </tr>\n",
       "    <tr>\n",
       "      <th>365</th>\n",
       "      <td>43.0</td>\n",
       "      <td>Male</td>\n",
       "      <td>Master's</td>\n",
       "      <td>Director of Marketing</td>\n",
       "      <td>18.0</td>\n",
       "      <td>170000.0</td>\n",
       "    </tr>\n",
       "    <tr>\n",
       "      <th>366</th>\n",
       "      <td>31.0</td>\n",
       "      <td>Female</td>\n",
       "      <td>Bachelor's</td>\n",
       "      <td>Junior Financial Analyst</td>\n",
       "      <td>3.0</td>\n",
       "      <td>50000.0</td>\n",
       "    </tr>\n",
       "    <tr>\n",
       "      <th>367</th>\n",
       "      <td>41.0</td>\n",
       "      <td>Male</td>\n",
       "      <td>Bachelor's</td>\n",
       "      <td>Senior Product Manager</td>\n",
       "      <td>14.0</td>\n",
       "      <td>150000.0</td>\n",
       "    </tr>\n",
       "    <tr>\n",
       "      <th>368</th>\n",
       "      <td>44.0</td>\n",
       "      <td>Female</td>\n",
       "      <td>PhD</td>\n",
       "      <td>Senior Data Engineer</td>\n",
       "      <td>16.0</td>\n",
       "      <td>160000.0</td>\n",
       "    </tr>\n",
       "    <tr>\n",
       "      <th>369</th>\n",
       "      <td>33.0</td>\n",
       "      <td>Male</td>\n",
       "      <td>Bachelor's</td>\n",
       "      <td>Junior Business Analyst</td>\n",
       "      <td>4.0</td>\n",
       "      <td>60000.0</td>\n",
       "    </tr>\n",
       "    <tr>\n",
       "      <th>370</th>\n",
       "      <td>35.0</td>\n",
       "      <td>Female</td>\n",
       "      <td>Bachelor's</td>\n",
       "      <td>Senior Marketing Analyst</td>\n",
       "      <td>8.0</td>\n",
       "      <td>85000.0</td>\n",
       "    </tr>\n",
       "    <tr>\n",
       "      <th>372</th>\n",
       "      <td>29.0</td>\n",
       "      <td>Female</td>\n",
       "      <td>Bachelor's</td>\n",
       "      <td>Junior Project Manager</td>\n",
       "      <td>2.0</td>\n",
       "      <td>40000.0</td>\n",
       "    </tr>\n",
       "    <tr>\n",
       "      <th>373</th>\n",
       "      <td>34.0</td>\n",
       "      <td>Male</td>\n",
       "      <td>Bachelor's</td>\n",
       "      <td>Senior Operations Coordinator</td>\n",
       "      <td>7.0</td>\n",
       "      <td>90000.0</td>\n",
       "    </tr>\n",
       "    <tr>\n",
       "      <th>374</th>\n",
       "      <td>44.0</td>\n",
       "      <td>Female</td>\n",
       "      <td>PhD</td>\n",
       "      <td>Senior Business Analyst</td>\n",
       "      <td>15.0</td>\n",
       "      <td>150000.0</td>\n",
       "    </tr>\n",
       "  </tbody>\n",
       "</table>\n",
       "</div>"
      ],
      "text/plain": [
       "      Age  Gender Education Level                              Job Title  \\\n",
       "195  28.0    Male      Bachelor's                Junior Business Analyst   \n",
       "250  30.0  Female      Bachelor's           Junior Marketing Coordinator   \n",
       "251  38.0    Male        Master's                   Senior IT Consultant   \n",
       "252  45.0  Female             PhD                Senior Product Designer   \n",
       "253  28.0    Male      Bachelor's  Junior Business Development Associate   \n",
       "254  35.0  Female      Bachelor's               Senior Marketing Analyst   \n",
       "255  44.0    Male      Bachelor's               Senior Software Engineer   \n",
       "256  34.0  Female        Master's               Senior Financial Advisor   \n",
       "257  35.0    Male      Bachelor's             Senior Project Coordinator   \n",
       "258  50.0  Female             PhD                 Director of Operations   \n",
       "262  46.0    Male             PhD                  Senior Data Scientist   \n",
       "281  41.0  Female      Bachelor's             Senior Project Coordinator   \n",
       "287  35.0  Female      Bachelor's               Senior Marketing Analyst   \n",
       "303  45.0    Male             PhD                   Senior Data Engineer   \n",
       "306  49.0  Female        Master's                  Director of Marketing   \n",
       "307  31.0    Male      Bachelor's              Junior Operations Analyst   \n",
       "309  47.0    Male        Master's                  Director of Marketing   \n",
       "310  29.0  Female      Bachelor's  Junior Business Development Associate   \n",
       "311  35.0    Male      Bachelor's               Senior Financial Manager   \n",
       "312  44.0  Female             PhD                Senior Product Designer   \n",
       "313  33.0    Male      Bachelor's                Junior Business Analyst   \n",
       "314  35.0  Female      Bachelor's               Senior Marketing Analyst   \n",
       "315  44.0    Male      Bachelor's               Senior Software Engineer   \n",
       "317  36.0    Male      Bachelor's            Senior Marketing Specialist   \n",
       "328  38.0  Female      Bachelor's                Senior Business Analyst   \n",
       "345  33.0    Male      Bachelor's                Junior Business Analyst   \n",
       "346  35.0  Female      Bachelor's               Senior Marketing Analyst   \n",
       "352  38.0  Female      Bachelor's                Senior Business Analyst   \n",
       "353  48.0    Male        Master's                  Director of Marketing   \n",
       "354  31.0  Female      Bachelor's  Junior Business Development Associate   \n",
       "355  40.0    Male      Bachelor's               Senior Financial Analyst   \n",
       "356  45.0  Female             PhD                     Senior UX Designer   \n",
       "357  33.0    Male      Bachelor's                 Junior Product Manager   \n",
       "358  36.0  Female      Bachelor's               Senior Marketing Manager   \n",
       "359  47.0    Male        Master's                 Director of Operations   \n",
       "360  29.0  Female      Bachelor's                 Junior Project Manager   \n",
       "361  34.0    Male      Bachelor's          Senior Operations Coordinator   \n",
       "362  44.0  Female             PhD                Senior Business Analyst   \n",
       "363  33.0    Male      Bachelor's            Junior Marketing Specialist   \n",
       "364  35.0  Female      Bachelor's               Senior Financial Manager   \n",
       "365  43.0    Male        Master's                  Director of Marketing   \n",
       "366  31.0  Female      Bachelor's               Junior Financial Analyst   \n",
       "367  41.0    Male      Bachelor's                 Senior Product Manager   \n",
       "368  44.0  Female             PhD                   Senior Data Engineer   \n",
       "369  33.0    Male      Bachelor's                Junior Business Analyst   \n",
       "370  35.0  Female      Bachelor's               Senior Marketing Analyst   \n",
       "372  29.0  Female      Bachelor's                 Junior Project Manager   \n",
       "373  34.0    Male      Bachelor's          Senior Operations Coordinator   \n",
       "374  44.0  Female             PhD                Senior Business Analyst   \n",
       "\n",
       "     Years of Experience    Salary  \n",
       "195                  2.0   40000.0  \n",
       "250                  2.0   40000.0  \n",
       "251                  9.0  110000.0  \n",
       "252                 15.0  150000.0  \n",
       "253                  2.0   40000.0  \n",
       "254                  8.0   85000.0  \n",
       "255                 14.0  130000.0  \n",
       "256                  6.0  100000.0  \n",
       "257                  9.0   95000.0  \n",
       "258                 22.0  180000.0  \n",
       "262                 18.0  160000.0  \n",
       "281                 11.0   95000.0  \n",
       "287                  8.0   85000.0  \n",
       "303                 16.0  150000.0  \n",
       "306                 21.0  180000.0  \n",
       "307                  3.0   50000.0  \n",
       "309                 19.0  170000.0  \n",
       "310                  1.5   35000.0  \n",
       "311                  9.0  100000.0  \n",
       "312                 15.0  150000.0  \n",
       "313                  4.0   60000.0  \n",
       "314                  8.0   85000.0  \n",
       "315                 13.0  130000.0  \n",
       "317                  8.0   95000.0  \n",
       "328                 10.0  110000.0  \n",
       "345                  4.0   60000.0  \n",
       "346                  8.0   85000.0  \n",
       "352                 10.0  110000.0  \n",
       "353                 21.0  180000.0  \n",
       "354                  3.0   50000.0  \n",
       "355                 12.0  130000.0  \n",
       "356                 16.0  160000.0  \n",
       "357                  4.0   60000.0  \n",
       "358                  8.0   95000.0  \n",
       "359                 19.0  170000.0  \n",
       "360                  2.0   40000.0  \n",
       "361                  7.0   90000.0  \n",
       "362                 15.0  150000.0  \n",
       "363                  5.0   70000.0  \n",
       "364                  8.0   90000.0  \n",
       "365                 18.0  170000.0  \n",
       "366                  3.0   50000.0  \n",
       "367                 14.0  150000.0  \n",
       "368                 16.0  160000.0  \n",
       "369                  4.0   60000.0  \n",
       "370                  8.0   85000.0  \n",
       "372                  2.0   40000.0  \n",
       "373                  7.0   90000.0  \n",
       "374                 15.0  150000.0  "
      ]
     },
     "execution_count": 12,
     "metadata": {},
     "output_type": "execute_result"
    }
   ],
   "source": [
    "df_cleaned[df.duplicated()]\n"
   ]
  },
  {
   "cell_type": "code",
   "execution_count": 13,
   "id": "4acb249f",
   "metadata": {},
   "outputs": [],
   "source": [
    "df_cleaned = df_cleaned.drop_duplicates()\n"
   ]
  },
  {
   "cell_type": "code",
   "execution_count": 14,
   "id": "bb572b4a",
   "metadata": {},
   "outputs": [
    {
     "data": {
      "text/plain": [
       "np.int64(0)"
      ]
     },
     "execution_count": 14,
     "metadata": {},
     "output_type": "execute_result"
    }
   ],
   "source": [
    "df_cleaned.duplicated().sum()\n"
   ]
  },
  {
   "cell_type": "code",
   "execution_count": 15,
   "id": "b9929bb7",
   "metadata": {},
   "outputs": [
    {
     "data": {
      "text/html": [
       "<div>\n",
       "<style scoped>\n",
       "    .dataframe tbody tr th:only-of-type {\n",
       "        vertical-align: middle;\n",
       "    }\n",
       "\n",
       "    .dataframe tbody tr th {\n",
       "        vertical-align: top;\n",
       "    }\n",
       "\n",
       "    .dataframe thead th {\n",
       "        text-align: right;\n",
       "    }\n",
       "</style>\n",
       "<table border=\"1\" class=\"dataframe\">\n",
       "  <thead>\n",
       "    <tr style=\"text-align: right;\">\n",
       "      <th></th>\n",
       "      <th>Age</th>\n",
       "      <th>Gender</th>\n",
       "      <th>Education Level</th>\n",
       "      <th>Job Title</th>\n",
       "      <th>Years of Experience</th>\n",
       "      <th>Salary</th>\n",
       "    </tr>\n",
       "  </thead>\n",
       "  <tbody>\n",
       "  </tbody>\n",
       "</table>\n",
       "</div>"
      ],
      "text/plain": [
       "Empty DataFrame\n",
       "Columns: [Age, Gender, Education Level, Job Title, Years of Experience, Salary]\n",
       "Index: []"
      ]
     },
     "execution_count": 15,
     "metadata": {},
     "output_type": "execute_result"
    }
   ],
   "source": [
    "df_cleaned[df_cleaned.isnull().all(axis=1)]\n"
   ]
  },
  {
   "cell_type": "code",
   "execution_count": 16,
   "id": "9fbad2e8",
   "metadata": {},
   "outputs": [],
   "source": [
    "df_cleaned = df_cleaned.dropna(how='all')\n"
   ]
  },
  {
   "cell_type": "code",
   "execution_count": 17,
   "id": "71806ddd",
   "metadata": {},
   "outputs": [
    {
     "data": {
      "text/html": [
       "<div>\n",
       "<style scoped>\n",
       "    .dataframe tbody tr th:only-of-type {\n",
       "        vertical-align: middle;\n",
       "    }\n",
       "\n",
       "    .dataframe tbody tr th {\n",
       "        vertical-align: top;\n",
       "    }\n",
       "\n",
       "    .dataframe thead th {\n",
       "        text-align: right;\n",
       "    }\n",
       "</style>\n",
       "<table border=\"1\" class=\"dataframe\">\n",
       "  <thead>\n",
       "    <tr style=\"text-align: right;\">\n",
       "      <th></th>\n",
       "      <th>Age</th>\n",
       "      <th>Gender</th>\n",
       "      <th>Education Level</th>\n",
       "      <th>Job Title</th>\n",
       "      <th>Years of Experience</th>\n",
       "      <th>Salary</th>\n",
       "    </tr>\n",
       "  </thead>\n",
       "  <tbody>\n",
       "    <tr>\n",
       "      <th>0</th>\n",
       "      <td>32.0</td>\n",
       "      <td>Male</td>\n",
       "      <td>Bachelor's</td>\n",
       "      <td>Software Engineer</td>\n",
       "      <td>5.0</td>\n",
       "      <td>90000.0</td>\n",
       "    </tr>\n",
       "    <tr>\n",
       "      <th>1</th>\n",
       "      <td>28.0</td>\n",
       "      <td>Female</td>\n",
       "      <td>Master's</td>\n",
       "      <td>Data Analyst</td>\n",
       "      <td>3.0</td>\n",
       "      <td>65000.0</td>\n",
       "    </tr>\n",
       "    <tr>\n",
       "      <th>2</th>\n",
       "      <td>45.0</td>\n",
       "      <td>Male</td>\n",
       "      <td>PhD</td>\n",
       "      <td>Senior Manager</td>\n",
       "      <td>15.0</td>\n",
       "      <td>150000.0</td>\n",
       "    </tr>\n",
       "    <tr>\n",
       "      <th>3</th>\n",
       "      <td>36.0</td>\n",
       "      <td>Female</td>\n",
       "      <td>Bachelor's</td>\n",
       "      <td>Sales Associate</td>\n",
       "      <td>7.0</td>\n",
       "      <td>60000.0</td>\n",
       "    </tr>\n",
       "    <tr>\n",
       "      <th>4</th>\n",
       "      <td>52.0</td>\n",
       "      <td>Male</td>\n",
       "      <td>Master's</td>\n",
       "      <td>Director</td>\n",
       "      <td>20.0</td>\n",
       "      <td>200000.0</td>\n",
       "    </tr>\n",
       "  </tbody>\n",
       "</table>\n",
       "</div>"
      ],
      "text/plain": [
       "    Age  Gender Education Level          Job Title  Years of Experience  \\\n",
       "0  32.0    Male      Bachelor's  Software Engineer                  5.0   \n",
       "1  28.0  Female        Master's       Data Analyst                  3.0   \n",
       "2  45.0    Male             PhD     Senior Manager                 15.0   \n",
       "3  36.0  Female      Bachelor's    Sales Associate                  7.0   \n",
       "4  52.0    Male        Master's           Director                 20.0   \n",
       "\n",
       "     Salary  \n",
       "0   90000.0  \n",
       "1   65000.0  \n",
       "2  150000.0  \n",
       "3   60000.0  \n",
       "4  200000.0  "
      ]
     },
     "execution_count": 17,
     "metadata": {},
     "output_type": "execute_result"
    }
   ],
   "source": [
    "df_cleaned.head()"
   ]
  },
  {
   "cell_type": "markdown",
   "id": "2b5d24ff",
   "metadata": {},
   "source": [
    "### EDA"
   ]
  },
  {
   "cell_type": "code",
   "execution_count": 19,
   "id": "1cc6bda3",
   "metadata": {},
   "outputs": [
    {
     "data": {
      "image/png": "[encoded data removed]",
      "text/plain": [
       "<Figure size 1000x600 with 4 Axes>"
      ]
     },
     "metadata": {},
     "output_type": "display_data"
    }
   ],
   "source": [
    "# Plot histograms of all numeric columns\n",
    "hist_plot = df_cleaned.hist(figsize=(10, 6), edgecolor='black')\n",
    "plt.tight_layout()\n",
    "plt.show()"
   ]
  },
  {
   "cell_type": "code",
   "execution_count": 20,
   "id": "fd7ea4df",
   "metadata": {},
   "outputs": [
    {
     "data": {
      "image/png": "[encoded data removed]",
      "text/plain": [
       "<Figure size 640x480 with 1 Axes>"
      ]
     },
     "metadata": {},
     "output_type": "display_data"
    }
   ],
   "source": [
    "\n",
    "sns.histplot(data=df_cleaned, x=\"Age\", bins=10, kde=True)\n",
    "plt.title(\"Age Distribution\")\n",
    "plt.xlabel(\"Age\")\n",
    "plt.ylabel(\"Count\")\n",
    "plt.show()"
   ]
  },
  {
   "cell_type": "markdown",
   "id": "caf1a1ec",
   "metadata": {},
   "source": [
    "Age Distribution – Observations\n",
    "\n",
    "The distribution of age is slightly right skewed, with a higher concentration of individuals between 28 and 40 years old.\n",
    "\n",
    "The peak appears around 30–32 years, suggesting most employees are early career professionals.\n",
    "\n",
    "No extreme outliers, but potential grouping or binning (e.g., age groups) could help simplify modeling.\n",
    "\n",
    "Recommendation: Keep the age feature, possibly normalize or standardize it before modeling."
   ]
  },
  {
   "cell_type": "markdown",
   "id": "dde84e6c",
   "metadata": {},
   "source": [
    "Salary Distribution"
   ]
  },
  {
   "cell_type": "code",
   "execution_count": 21,
   "id": "f29c1b21",
   "metadata": {},
   "outputs": [
    {
     "data": {
      "image/png": "[encoded data removed]",
      "text/plain": [
       "<Figure size 640x480 with 1 Axes>"
      ]
     },
     "metadata": {},
     "output_type": "display_data"
    }
   ],
   "source": [
    "import matplotlib.pyplot as plt\n",
    "import seaborn as sns\n",
    "\n",
    "sns.histplot(data=df_cleaned, x=\"Salary\", bins=10, kde=True)\n",
    "plt.title(\"Salary Distribution\")\n",
    "plt.xlabel(\"Salary\")\n",
    "plt.ylabel(\"Count\")\n",
    "plt.show()\n"
   ]
  },
  {
   "cell_type": "markdown",
   "id": "522980d7",
   "metadata": {},
   "source": [
    "The salary distribution is right-skewed, meaning a majority of salaries are concentrated at the lower end (under $100,000).\n",
    "\n",
    "A significant number of employees earn between $30,000 and $80,000, representing early to mid-career professionals.\n",
    "\n",
    "The tail extends up to $250,000, indicating the presence of high-income outliers, possibly senior-level or specialized roles.\n",
    "\n",
    "The KDE curve shows multi-modal peaks, which may suggest different job levels or departments within the dataset.\n",
    "\n",
    "Such skewness can negatively impact linear regression, so applying a log transformation (e.g., np.log(Salary)) could improve model performance.\n",
    "\n",
    "Consider investigating the outliers further — they might need to be clipped or treated separately depending on business needs."
   ]
  },
  {
   "cell_type": "code",
   "execution_count": 46,
   "id": "9fea4046",
   "metadata": {},
   "outputs": [
    {
     "data": {
      "image/png": "[encoded data removed]",
      "text/plain": [
       "<Figure size 640x480 with 1 Axes>"
      ]
     },
     "metadata": {},
     "output_type": "display_data"
    }
   ],
   "source": [
    "import matplotlib.pyplot as plt\n",
    "import seaborn as sns\n",
    "\n",
    "sns.histplot(data=df_cleaned, x=\"Years of Experience\", bins=10, kde=True)\n",
    "plt.title(\"Years of Experience\")\n",
    "plt.xlabel(\"Years\")\n",
    "plt.ylabel(\"Count\")\n",
    "plt.show()\n"
   ]
  },
  {
   "cell_type": "markdown",
   "id": "4c571fdc",
   "metadata": {},
   "source": [
    "Relationship between Experience and Salary"
   ]
  },
  {
   "cell_type": "code",
   "execution_count": 22,
   "id": "e8783354",
   "metadata": {},
   "outputs": [
    {
     "data": {
      "image/png": "[encoded data removed]",
      "text/plain": [
       "<Figure size 640x480 with 1 Axes>"
      ]
     },
     "metadata": {},
     "output_type": "display_data"
    }
   ],
   "source": [
    "# Optional: Set a clean style\n",
    "sns.set(style=\"whitegrid\")\n",
    "\n",
    "# Scatter plot\n",
    "sns.scatterplot(data=df_cleaned, x=\"Years of Experience\", y=\"Salary\")\n",
    "plt.title(\"Experience vs Salary\")\n",
    "plt.xlabel(\"Years of Experience\")\n",
    "plt.ylabel(\"Salary\")\n",
    "plt.show()\n"
   ]
  },
  {
   "cell_type": "markdown",
   "id": "f9111be6",
   "metadata": {},
   "source": [
    "Histogram of Experience"
   ]
  },
  {
   "cell_type": "code",
   "execution_count": 23,
   "id": "6822bd60",
   "metadata": {},
   "outputs": [
    {
     "data": {
      "image/png": "[encoded data removed]",
      "text/plain": [
       "<Figure size 640x480 with 1 Axes>"
      ]
     },
     "metadata": {},
     "output_type": "display_data"
    }
   ],
   "source": [
    "sns.histplot(df_cleaned[\"Years of Experience\"], bins=10, kde=True)\n",
    "plt.title(\"Distribution of Experience\")\n",
    "plt.xlabel(\"Years of Experience\")\n",
    "plt.show()\n"
   ]
  },
  {
   "cell_type": "markdown",
   "id": "db366f14",
   "metadata": {},
   "source": [
    "Boxplot – Detect outliers"
   ]
  },
  {
   "cell_type": "code",
   "execution_count": 24,
   "id": "8a95656a",
   "metadata": {},
   "outputs": [
    {
     "data": {
      "image/png": "[encoded data removed]",
      "text/plain": [
       "<Figure size 600x400 with 1 Axes>"
      ]
     },
     "metadata": {},
     "output_type": "display_data"
    }
   ],
   "source": [
    "plt.figure(figsize=(6, 4))\n",
    "sns.boxplot(x=df_cleaned[\"Salary\"])\n",
    "plt.title(\"Boxplot of Salaries\")\n",
    "plt.show()\n"
   ]
  },
  {
   "cell_type": "code",
   "execution_count": 25,
   "id": "8a56fba8",
   "metadata": {},
   "outputs": [
    {
     "data": {
      "text/plain": [
       "<Axes: >"
      ]
     },
     "execution_count": 25,
     "metadata": {},
     "output_type": "execute_result"
    },
    {
     "data": {
      "image/png": "[encoded data removed]",
      "text/plain": [
       "<Figure size 640x480 with 2 Axes>"
      ]
     },
     "metadata": {},
     "output_type": "display_data"
    }
   ],
   "source": [
    "#Correlation heatmap\n",
    "sns.heatmap(df_cleaned.corr(numeric_only=True), annot=True)\n"
   ]
  },
  {
   "cell_type": "code",
   "execution_count": null,
   "id": "2fab37ea",
   "metadata": {},
   "outputs": [],
   "source": []
  },
  {
   "cell_type": "markdown",
   "id": "d10ec1d3",
   "metadata": {},
   "source": [
    "Modeling & Prediction"
   ]
  },
  {
   "cell_type": "code",
   "execution_count": 26,
   "id": "8dabbd8b",
   "metadata": {},
   "outputs": [],
   "source": [
    "df_encoded = pd.get_dummies(\n",
    "    df_cleaned,\n",
    "    columns=['Gender', 'Education Level', 'Job Title'],\n",
    "    drop_first=True\n",
    ")\n"
   ]
  },
  {
   "cell_type": "code",
   "execution_count": 27,
   "id": "b3415a9b",
   "metadata": {},
   "outputs": [
    {
     "name": "stdout",
     "output_type": "stream",
     "text": [
      "Index(['Age', 'Years of Experience', 'Salary', 'Gender_Male',\n",
      "       'Education Level_Master's', 'Education Level_PhD',\n",
      "       'Job Title_Accountant', 'Job Title_Administrative Assistant',\n",
      "       'Job Title_Business Analyst', 'Job Title_Business Development Manager',\n",
      "       ...\n",
      "       'Job Title_Supply Chain Manager', 'Job Title_Technical Recruiter',\n",
      "       'Job Title_Technical Support Specialist', 'Job Title_Technical Writer',\n",
      "       'Job Title_Training Specialist', 'Job Title_UX Designer',\n",
      "       'Job Title_UX Researcher', 'Job Title_VP of Finance',\n",
      "       'Job Title_VP of Operations', 'Job Title_Web Developer'],\n",
      "      dtype='object', length=179)\n"
     ]
    }
   ],
   "source": [
    "print(df_encoded.columns)\n"
   ]
  },
  {
   "cell_type": "code",
   "execution_count": 28,
   "id": "73635e38",
   "metadata": {},
   "outputs": [
    {
     "data": {
      "text/plain": [
       "(324, 179)"
      ]
     },
     "execution_count": 28,
     "metadata": {},
     "output_type": "execute_result"
    }
   ],
   "source": [
    "df_encoded.shape"
   ]
  },
  {
   "cell_type": "code",
   "execution_count": 29,
   "id": "642564e1",
   "metadata": {},
   "outputs": [
    {
     "name": "stdout",
     "output_type": "stream",
     "text": [
      "WITHOUT scaling:\n",
      "RMSE: 15851.15476886\n",
      "R² Score: 0.8670436880629805\n"
     ]
    }
   ],
   "source": [
    "X = df_encoded.drop(\"Salary\", axis=1)\n",
    "y = df_encoded[\"Salary\"]\n",
    "\n",
    "from sklearn.model_selection import train_test_split\n",
    "\n",
    "X_train, X_test, y_train, y_test = train_test_split(\n",
    "    X, y, test_size=0.2, random_state=42\n",
    ")\n",
    "\n",
    "from sklearn.linear_model import LinearRegression\n",
    "model = LinearRegression()\n",
    "model.fit(X_train, y_train)\n",
    "\n",
    "from sklearn.metrics import mean_squared_error, r2_score\n",
    "import numpy as np\n",
    "\n",
    "y_pred = model.predict(X_test)\n",
    "print(\"WITHOUT scaling:\")\n",
    "print(\"RMSE:\", np.sqrt(mean_squared_error(y_test, y_pred)))\n",
    "print(\"R² Score:\", r2_score(y_test, y_pred))\n"
   ]
  },
  {
   "cell_type": "markdown",
   "id": "acc9cb4f",
   "metadata": {},
   "source": [
    "Model is off by about ±16K\n",
    "So if the true salary is $75,000, the model might predict anywhere from:\n",
    "\n",
    "$75,000 ± $16,822 → Between $58,178 and $91,822"
   ]
  },
  {
   "cell_type": "markdown",
   "id": "3fc6a84c",
   "metadata": {},
   "source": [
    "Model B: Linear Regression WITH Scaling"
   ]
  },
  {
   "cell_type": "code",
   "execution_count": 30,
   "id": "2883a376",
   "metadata": {},
   "outputs": [
    {
     "name": "stdout",
     "output_type": "stream",
     "text": [
      "\n",
      "WITH scaling:\n",
      "RMSE: 15851.1547688604\n",
      "R² Score: 0.8670436880629737\n"
     ]
    }
   ],
   "source": [
    "from sklearn.preprocessing import StandardScaler\n",
    "\n",
    "# Copy original feature set\n",
    "X_scaled = df_encoded.drop(\"Salary\", axis=1).copy()\n",
    "\n",
    "# Scale only the numeric columns\n",
    "scaler = StandardScaler()\n",
    "X_scaled[['Age', 'Years of Experience']] = scaler.fit_transform(\n",
    "    X_scaled[['Age', 'Years of Experience']]\n",
    ")\n",
    "\n",
    "# Train/test split\n",
    "X_train_s, X_test_s, y_train_s, y_test_s = train_test_split(\n",
    "    X_scaled, y, test_size=0.2, random_state=42\n",
    ")\n",
    "\n",
    "# Train the model\n",
    "model_scaled = LinearRegression()\n",
    "model_scaled.fit(X_train_s, y_train_s)\n",
    "\n",
    "# Evaluate\n",
    "y_pred_s = model_scaled.predict(X_test_s)\n",
    "print(\"\\nWITH scaling:\")\n",
    "print(\"RMSE:\", np.sqrt(mean_squared_error(y_test_s, y_pred_s)))\n",
    "print(\"R² Score:\", r2_score(y_test_s, y_pred_s))\n"
   ]
  },
  {
   "cell_type": "code",
   "execution_count": 31,
   "id": "0a24b635",
   "metadata": {},
   "outputs": [],
   "source": [
    "from sklearn.linear_model import Ridge, Lasso\n"
   ]
  },
  {
   "cell_type": "code",
   "execution_count": 32,
   "id": "534903ad",
   "metadata": {},
   "outputs": [
    {
     "name": "stdout",
     "output_type": "stream",
     "text": [
      "\n",
      " Ridge Regression:\n",
      "RMSE: 14061.141596013853\n",
      "R² Score: 0.8953767250804621\n"
     ]
    }
   ],
   "source": [
    "ridge_model = Ridge(alpha=1.0)  # alpha is the regularization strength\n",
    "ridge_model.fit(X_train_s, y_train_s)\n",
    "\n",
    "y_pred_ridge = ridge_model.predict(X_test_s)\n",
    "\n",
    "print(\"\\n Ridge Regression:\")\n",
    "print(\"RMSE:\", np.sqrt(mean_squared_error(y_test_s, y_pred_ridge)))\n",
    "print(\"R² Score:\", ridge_model.score(X_test_s, y_test_s))\n"
   ]
  },
  {
   "cell_type": "code",
   "execution_count": 33,
   "id": "b18f6cf9",
   "metadata": {},
   "outputs": [
    {
     "name": "stdout",
     "output_type": "stream",
     "text": [
      "\n",
      " Lasso Regression:\n",
      "RMSE: 14565.050651989643\n",
      "R² Score: 0.8877435909508631\n"
     ]
    }
   ],
   "source": [
    "lasso_model = Lasso(alpha=1.0)\n",
    "lasso_model.fit(X_train_s, y_train_s)\n",
    "\n",
    "y_pred_lasso = lasso_model.predict(X_test_s)\n",
    "\n",
    "print(\"\\n Lasso Regression:\")\n",
    "print(\"RMSE:\", np.sqrt(mean_squared_error(y_test_s, y_pred_lasso)))\n",
    "print(\"R² Score:\", lasso_model.score(X_test_s, y_test_s))\n"
   ]
  },
  {
   "cell_type": "markdown",
   "id": "f4775397",
   "metadata": {},
   "source": [
    "Random Forest Regressor"
   ]
  },
  {
   "cell_type": "code",
   "execution_count": 34,
   "id": "db5f2fe8",
   "metadata": {},
   "outputs": [
    {
     "name": "stdout",
     "output_type": "stream",
     "text": [
      "Random Forest RMSE: 14934.150793274928\n",
      "R² Score: 0.8819820106650813\n"
     ]
    }
   ],
   "source": [
    "from sklearn.ensemble import RandomForestRegressor\n",
    "\n",
    "forest = RandomForestRegressor(n_estimators=100, random_state=42)\n",
    "forest.fit(X_train_s, y_train_s)\n",
    "y_pred_forest = forest.predict(X_test_s)\n",
    "\n",
    "print(\"Random Forest RMSE:\", np.sqrt(mean_squared_error(y_test_s, y_pred_forest)))\n",
    "print(\"R² Score:\", forest.score(X_test_s, y_test_s))\n"
   ]
  },
  {
   "cell_type": "markdown",
   "id": "e0a10978",
   "metadata": {},
   "source": [
    "Gradient Boosting Regressor"
   ]
  },
  {
   "cell_type": "code",
   "execution_count": 35,
   "id": "279b2801",
   "metadata": {},
   "outputs": [
    {
     "name": "stdout",
     "output_type": "stream",
     "text": [
      "Gradient Boosting RMSE: 15067.143337015592\n",
      "R² Score: 0.8798706888815266\n"
     ]
    }
   ],
   "source": [
    "from sklearn.ensemble import GradientBoostingRegressor\n",
    "\n",
    "gb = GradientBoostingRegressor(random_state=42)\n",
    "gb.fit(X_train_s, y_train_s)\n",
    "y_pred_gb = gb.predict(X_test_s)\n",
    "\n",
    "print(\"Gradient Boosting RMSE:\", np.sqrt(mean_squared_error(y_test_s, y_pred_gb)))\n",
    "print(\"R² Score:\", gb.score(X_test_s, y_test_s))\n"
   ]
  },
  {
   "cell_type": "markdown",
   "id": "72be8c3b",
   "metadata": {},
   "source": [
    "XGBoost Regressor"
   ]
  },
  {
   "cell_type": "code",
   "execution_count": 40,
   "id": "1386fca0",
   "metadata": {},
   "outputs": [
    {
     "name": "stdout",
     "output_type": "stream",
     "text": [
      "\n",
      " XGBoost Regressor\n",
      "RMSE: 15561.756532399804\n",
      "R² Score: 0.8718541990983822\n"
     ]
    }
   ],
   "source": [
    "from xgboost import XGBRegressor\n",
    "from sklearn.metrics import mean_squared_error, r2_score\n",
    "import numpy as np\n",
    "\n",
    "xgb_model = XGBRegressor(random_state=42)\n",
    "xgb_model.fit(X_train_s, y_train_s)\n",
    "\n",
    "y_pred_xgb = xgb_model.predict(X_test_s)\n",
    "\n",
    "print(\"\\n XGBoost Regressor\")\n",
    "print(\"RMSE:\", np.sqrt(mean_squared_error(y_test_s, y_pred_xgb)))\n",
    "print(\"R² Score:\", r2_score(y_test_s, y_pred_xgb))\n"
   ]
  },
  {
   "cell_type": "markdown",
   "id": "189b7073",
   "metadata": {},
   "source": [
    "NN"
   ]
  },
  {
   "cell_type": "code",
   "execution_count": 37,
   "id": "9a30fa70",
   "metadata": {},
   "outputs": [
    {
     "name": "stdout",
     "output_type": "stream",
     "text": [
      "\n",
      "🧠 MLP Regressor\n",
      "RMSE: 103055.04659522396\n",
      "R² Score: -4.619862306442287\n"
     ]
    },
    {
     "name": "stderr",
     "output_type": "stream",
     "text": [
      "/Users/november/Documents/Data Science Projects/fair‑pay‑oracle/.venv/lib/python3.12/site-packages/sklearn/neural_network/_multilayer_perceptron.py:780: ConvergenceWarning: Stochastic Optimizer: Maximum iterations (1000) reached and the optimization hasn't converged yet.\n",
      "  warnings.warn(\n"
     ]
    }
   ],
   "source": [
    "from sklearn.neural_network import MLPRegressor\n",
    "\n",
    "mlp_model = MLPRegressor(hidden_layer_sizes=(100,), max_iter=1000, random_state=42)\n",
    "mlp_model.fit(X_train_s, y_train_s)\n",
    "\n",
    "y_pred_mlp = mlp_model.predict(X_test_s)\n",
    "\n",
    "print(\"\\n🧠 MLP Regressor\")\n",
    "print(\"RMSE:\", np.sqrt(mean_squared_error(y_test_s, y_pred_mlp)))\n",
    "print(\"R² Score:\", r2_score(y_test_s, y_pred_mlp))\n"
   ]
  },
  {
   "cell_type": "markdown",
   "id": "7580bba3",
   "metadata": {},
   "source": [
    "K-Nearest Neighbors Regressor"
   ]
  },
  {
   "cell_type": "code",
   "execution_count": 38,
   "id": "e9344556",
   "metadata": {},
   "outputs": [
    {
     "name": "stdout",
     "output_type": "stream",
     "text": [
      "\n",
      "👥 KNN Regressor\n",
      "RMSE: 12989.300271317987\n",
      "R² Score: 0.91071907938655\n"
     ]
    }
   ],
   "source": [
    "from sklearn.neighbors import KNeighborsRegressor\n",
    "\n",
    "knn_model = KNeighborsRegressor(n_neighbors=5)\n",
    "knn_model.fit(X_train_s, y_train_s)\n",
    "\n",
    "y_pred_knn = knn_model.predict(X_test_s)\n",
    "\n",
    "print(\"\\n👥 KNN Regressor\")\n",
    "print(\"RMSE:\", np.sqrt(mean_squared_error(y_test_s, y_pred_knn)))\n",
    "print(\"R² Score:\", r2_score(y_test_s, y_pred_knn))\n"
   ]
  },
  {
   "cell_type": "markdown",
   "id": "8124e034",
   "metadata": {},
   "source": [
    "Support Vector Regressor"
   ]
  },
  {
   "cell_type": "code",
   "execution_count": null,
   "id": "b05cdda0",
   "metadata": {},
   "outputs": [
    {
     "name": "stdout",
     "output_type": "stream",
     "text": [
      "\n",
      "📐 SVR (Support Vector Regressor)\n",
      "RMSE: 43448.996026788234\n",
      "R² Score: 0.0010433591358086636\n"
     ]
    }
   ],
   "source": [
    "from sklearn.svm import SVR\n",
    "\n",
    "svr_model = SVR()\n",
    "svr_model.fit(X_train_s, y_train_s)\n",
    "\n",
    "y_pred_svr = svr_model.predict(X_test_s)\n",
    "\n",
    "print(\"\\n SVR (Support Vector Regressor)\")\n",
    "print(\"RMSE:\", np.sqrt(mean_squared_error(y_test_s, y_pred_svr)))\n",
    "print(\"R² Score:\", r2_score(y_test_s, y_pred_svr))\n"
   ]
  },
  {
   "cell_type": "code",
   "execution_count": null,
   "id": "3ca77c57",
   "metadata": {},
   "outputs": [
    {
     "data": {
      "text/html": [
       "<style type=\"text/css\">\n",
       "</style>\n",
       "<table id=\"T_da2a0\">\n",
       "  <thead>\n",
       "    <tr>\n",
       "      <th class=\"blank level0\" >&nbsp;</th>\n",
       "      <th id=\"T_da2a0_level0_col0\" class=\"col_heading level0 col0\" >Model</th>\n",
       "      <th id=\"T_da2a0_level0_col1\" class=\"col_heading level0 col1\" >RMSE</th>\n",
       "      <th id=\"T_da2a0_level0_col2\" class=\"col_heading level0 col2\" >R2 Score</th>\n",
       "    </tr>\n",
       "  </thead>\n",
       "  <tbody>\n",
       "    <tr>\n",
       "      <th id=\"T_da2a0_level0_row0\" class=\"row_heading level0 row0\" >0</th>\n",
       "      <td id=\"T_da2a0_row0_col0\" class=\"data row0 col0\" >KNN Regressor</td>\n",
       "      <td id=\"T_da2a0_row0_col1\" class=\"data row0 col1\" >12,989.30</td>\n",
       "      <td id=\"T_da2a0_row0_col2\" class=\"data row0 col2\" >0.9107</td>\n",
       "    </tr>\n",
       "    <tr>\n",
       "      <th id=\"T_da2a0_level0_row1\" class=\"row_heading level0 row1\" >1</th>\n",
       "      <td id=\"T_da2a0_row1_col0\" class=\"data row1 col0\" >Ridge Regression</td>\n",
       "      <td id=\"T_da2a0_row1_col1\" class=\"data row1 col1\" >14,061.14</td>\n",
       "      <td id=\"T_da2a0_row1_col2\" class=\"data row1 col2\" >0.8954</td>\n",
       "    </tr>\n",
       "    <tr>\n",
       "      <th id=\"T_da2a0_level0_row2\" class=\"row_heading level0 row2\" >2</th>\n",
       "      <td id=\"T_da2a0_row2_col0\" class=\"data row2 col0\" >Lasso Regression</td>\n",
       "      <td id=\"T_da2a0_row2_col1\" class=\"data row2 col1\" >14,565.05</td>\n",
       "      <td id=\"T_da2a0_row2_col2\" class=\"data row2 col2\" >0.8877</td>\n",
       "    </tr>\n",
       "    <tr>\n",
       "      <th id=\"T_da2a0_level0_row3\" class=\"row_heading level0 row3\" >3</th>\n",
       "      <td id=\"T_da2a0_row3_col0\" class=\"data row3 col0\" >Random Forest</td>\n",
       "      <td id=\"T_da2a0_row3_col1\" class=\"data row3 col1\" >14,934.15</td>\n",
       "      <td id=\"T_da2a0_row3_col2\" class=\"data row3 col2\" >0.8820</td>\n",
       "    </tr>\n",
       "    <tr>\n",
       "      <th id=\"T_da2a0_level0_row4\" class=\"row_heading level0 row4\" >4</th>\n",
       "      <td id=\"T_da2a0_row4_col0\" class=\"data row4 col0\" >Gradient Boosting</td>\n",
       "      <td id=\"T_da2a0_row4_col1\" class=\"data row4 col1\" >15,067.14</td>\n",
       "      <td id=\"T_da2a0_row4_col2\" class=\"data row4 col2\" >0.8799</td>\n",
       "    </tr>\n",
       "    <tr>\n",
       "      <th id=\"T_da2a0_level0_row5\" class=\"row_heading level0 row5\" >5</th>\n",
       "      <td id=\"T_da2a0_row5_col0\" class=\"data row5 col0\" >XGBoost</td>\n",
       "      <td id=\"T_da2a0_row5_col1\" class=\"data row5 col1\" >15,561.76</td>\n",
       "      <td id=\"T_da2a0_row5_col2\" class=\"data row5 col2\" >0.8719</td>\n",
       "    </tr>\n",
       "    <tr>\n",
       "      <th id=\"T_da2a0_level0_row6\" class=\"row_heading level0 row6\" >6</th>\n",
       "      <td id=\"T_da2a0_row6_col0\" class=\"data row6 col0\" >Linear (No Scaling)</td>\n",
       "      <td id=\"T_da2a0_row6_col1\" class=\"data row6 col1\" >15,851.15</td>\n",
       "      <td id=\"T_da2a0_row6_col2\" class=\"data row6 col2\" >0.8670</td>\n",
       "    </tr>\n",
       "    <tr>\n",
       "      <th id=\"T_da2a0_level0_row7\" class=\"row_heading level0 row7\" >7</th>\n",
       "      <td id=\"T_da2a0_row7_col0\" class=\"data row7 col0\" >Linear (Scaled)</td>\n",
       "      <td id=\"T_da2a0_row7_col1\" class=\"data row7 col1\" >15,851.15</td>\n",
       "      <td id=\"T_da2a0_row7_col2\" class=\"data row7 col2\" >0.8670</td>\n",
       "    </tr>\n",
       "    <tr>\n",
       "      <th id=\"T_da2a0_level0_row8\" class=\"row_heading level0 row8\" >8</th>\n",
       "      <td id=\"T_da2a0_row8_col0\" class=\"data row8 col0\" >SVR</td>\n",
       "      <td id=\"T_da2a0_row8_col1\" class=\"data row8 col1\" >43,448.99</td>\n",
       "      <td id=\"T_da2a0_row8_col2\" class=\"data row8 col2\" >0.0010</td>\n",
       "    </tr>\n",
       "    <tr>\n",
       "      <th id=\"T_da2a0_level0_row9\" class=\"row_heading level0 row9\" >9</th>\n",
       "      <td id=\"T_da2a0_row9_col0\" class=\"data row9 col0\" >MLP Regressor</td>\n",
       "      <td id=\"T_da2a0_row9_col1\" class=\"data row9 col1\" >103,055.05</td>\n",
       "      <td id=\"T_da2a0_row9_col2\" class=\"data row9 col2\" >-4.6198</td>\n",
       "    </tr>\n",
       "  </tbody>\n",
       "</table>\n"
      ],
      "text/plain": [
       "<pandas.io.formats.style.Styler at 0x11f49e480>"
      ]
     },
     "metadata": {},
     "output_type": "display_data"
    },
    {
     "name": "stdout",
     "output_type": "stream",
     "text": [
      "\n",
      "Best by R²: KNN Regressor → R²=0.9107\n",
      "Best by RMSE: KNN Regressor → RMSE=12989.30\n"
     ]
    }
   ],
   "source": [
    "import numpy as np\n",
    "import pandas as pd\n",
    "import matplotlib.pyplot as plt\n",
    "\n",
    "# --- Enter your scores here ---\n",
    "models = [\n",
    "    \"Linear (No Scaling)\",\n",
    "    \"Linear (Scaled)\",\n",
    "    \"Ridge Regression\",\n",
    "    \"Lasso Regression\",\n",
    "    \"Random Forest\",\n",
    "    \"Gradient Boosting\",\n",
    "    \"XGBoost\",\n",
    "    \"KNN Regressor\",\n",
    "    \"SVR\",\n",
    "    \"MLP Regressor\"\n",
    "]\n",
    "\n",
    "rmse_scores = [\n",
    "    15851.15,\n",
    "    15851.15,\n",
    "    14061.14,\n",
    "    14565.05,\n",
    "    14934.15,\n",
    "    15067.14,\n",
    "    15561.76,\n",
    "    12989.30,\n",
    "    43448.99,\n",
    "    103055.05\n",
    "]\n",
    "\n",
    "r2_scores = [\n",
    "    0.8670,\n",
    "    0.8670,\n",
    "    0.8954,\n",
    "    0.8877,\n",
    "    0.8820,\n",
    "    0.8799,\n",
    "    0.8719,\n",
    "    0.9107,\n",
    "    0.0010,\n",
    "    -4.6198\n",
    "]\n",
    "\n",
    "\n",
    "summary_df = pd.DataFrame({\n",
    "    \"Model\": models,\n",
    "    \"RMSE\": rmse_scores,\n",
    "    \"R2 Score\": r2_scores\n",
    "})\n",
    "\n",
    "\n",
    "# Sort best highest R2 Score\n",
    "summary_df_sorted = summary_df.sort_values(\"R2 Score\", ascending=False).reset_index(drop=True)\n",
    "\n",
    "# Display nicely\n",
    "display(summary_df_sorted.style.format({\"RMSE\": \"{:,.2f}\", \"R2 Score\": \"{:.4f}\"}))\n",
    "\n",
    "# Identify best-by-metric\n",
    "best_by_r2 = summary_df_sorted.loc[summary_df_sorted[\"R2 Score\"].idxmax()]\n",
    "best_by_rmse = summary_df.loc[summary_df[\"RMSE\"].idxmin()]\n",
    "print(\"\\nBest by R²:\", best_by_r2[\"Model\"], \"→\", f'R²={best_by_r2[\"R2 Score\"]:.4f}')\n",
    "print(\"Best by RMSE:\", best_by_rmse[\"Model\"], \"→\", f'RMSE={best_by_rmse[\"RMSE\"]:.2f}')\n"
   ]
  },
  {
   "cell_type": "code",
   "execution_count": 43,
   "id": "dd0fded3",
   "metadata": {},
   "outputs": [
    {
     "data": {
      "image/png": "[encoded data removed]",
      "text/plain": [
       "<Figure size 1000x600 with 1 Axes>"
      ]
     },
     "metadata": {},
     "output_type": "display_data"
    }
   ],
   "source": [
    "plt.figure(figsize=(10, 6))\n",
    "plt.barh(summary_df_sorted[\"Model\"], summary_df_sorted[\"RMSE\"])\n",
    "plt.xlabel(\"RMSE\")\n",
    "plt.title(\"Model RMSE Comparison\")\n",
    "plt.gca().invert_yaxis()  # Best model at top\n",
    "plt.tight_layout()\n",
    "plt.show()\n"
   ]
  },
  {
   "cell_type": "code",
   "execution_count": 44,
   "id": "4e15111f",
   "metadata": {},
   "outputs": [
    {
     "data": {
      "image/png": "[encoded data removed]",
      "text/plain": [
       "<Figure size 1000x600 with 1 Axes>"
      ]
     },
     "metadata": {},
     "output_type": "display_data"
    }
   ],
   "source": [
    "plt.figure(figsize=(10, 6))\n",
    "plt.barh(summary_df_sorted[\"Model\"], summary_df_sorted[\"R2 Score\"])\n",
    "plt.xlabel(\"R² Score\")\n",
    "plt.title(\"Model R² Score Comparison\")\n",
    "plt.gca().invert_yaxis()\n",
    "plt.tight_layout()\n",
    "plt.show()\n"
   ]
  }
 ],
 "metadata": {
  "kernelspec": {
   "display_name": ".venv",
   "language": "python",
   "name": "python3"
  },
  "language_info": {
   "codemirror_mode": {
    "name": "ipython",
    "version": 3
   },
   "file_extension": ".py",
   "mimetype": "text/x-python",
   "name": "python",
   "nbconvert_exporter": "python",
   "pygments_lexer": "ipython3",
   "version": "3.12.11"
  }
 },
 "nbformat": 4,
 "nbformat_minor": 5
}
